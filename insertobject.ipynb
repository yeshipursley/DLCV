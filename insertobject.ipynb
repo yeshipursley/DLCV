{
 "cells": [
  {
   "cell_type": "code",
   "execution_count": 257,
   "id": "2e146f99-f6dd-451f-979c-56cd2e6ecd55",
   "metadata": {},
   "outputs": [],
   "source": [
    "import cv2\n",
    "import numpy as np\n",
    "\n",
    "# Load the scene and its depth map\n",
    "scene = cv2.imread('img6.png')\n",
    "depth_map = cv2.imread('6_img_depth.png', cv2.IMREAD_GRAYSCALE)  # Assuming a grayscale depth map"
   ]
  },
  {
   "cell_type": "code",
   "execution_count": 258,
   "id": "54eb4c79-c759-4ef1-ab3b-427edd43c2fa",
   "metadata": {},
   "outputs": [],
   "source": [
    "# Load the object with transparency (alpha channel)\n",
    "object_img = cv2.imread('Sports-Ball-Transparent.png', cv2.IMREAD_UNCHANGED)\n",
    "\n",
    "object_img = cv2.resize(object_img, (50, 50))\n",
    "\n",
    "# cv2.imshow('Integrated Scene', depth_map)\n",
    "# cv2.waitKey(0)\n",
    "# cv2.destroyAllWindows()"
   ]
  },
  {
   "cell_type": "code",
   "execution_count": 259,
   "id": "48823b35-f086-4131-a365-0a303c7e129c",
   "metadata": {},
   "outputs": [],
   "source": [
    "# Initialize a list to store clicked locations\n",
    "clicked_locations = []\n",
    "\n",
    "def click_event(event, x, y, flags, param):\n",
    "    # If the left mouse button was clicked, record the position\n",
    "    if event == cv2.EVENT_LBUTTONDOWN:\n",
    "        clicked_locations.append((x, y))\n",
    "\n",
    "# Set the mouse callback function for the window\n",
    "cv2.namedWindow('Select Locations')\n",
    "cv2.setMouseCallback('Select Locations', click_event)\n",
    "\n",
    "# Display the image and wait for user to select locations\n",
    "cv2.imshow('Select Locations', scene)\n",
    "cv2.waitKey(0)\n",
    "cv2.destroyAllWindows()"
   ]
  },
  {
   "cell_type": "code",
   "execution_count": 260,
   "id": "b13f6ca1-3140-4bd2-803f-55fc9c04b88f",
   "metadata": {},
   "outputs": [],
   "source": [
    "# Constants for scaling\n",
    "max_depth = 255\n",
    "min_scale = 0.5\n",
    "max_scale = 5\n",
    "\n",
    "# Process each clicked location\n",
    "for location in clicked_locations:\n",
    "    object_location_x, object_location_y = location\n",
    "    depth_value = depth_map[object_location_y, object_location_x]\n",
    "    scale_factor = (depth_value / max_depth) * (max_scale - min_scale) + min_scale\n",
    "    resized_object = cv2.resize(object_img, (int(object_img.shape[1] * scale_factor), int(object_img.shape[0] * scale_factor)))\n",
    "\n",
    "    # Insert the object into the scene at the clicked location\n",
    "    scene_height, scene_width = scene.shape[:2]\n",
    "    for i in range(resized_object.shape[0]):\n",
    "        for j in range(resized_object.shape[1]):\n",
    "            if resized_object[i, j, 3] > 0:  # Check for alpha channel transparency\n",
    "                y_index = object_location_y + i\n",
    "                x_index = object_location_x + j\n",
    "                # Check if the current indices are within the scene's boundaries\n",
    "                if x_index < scene_width and y_index < scene_height:\n",
    "                    scene[y_index, x_index, :] = resized_object[i, j, :3]\n",
    "\n",
    "# Display the final scene\n",
    "cv2.imshow('Integrated Scene', scene)\n",
    "cv2.waitKey(0)\n",
    "cv2.destroyAllWindows()"
   ]
  },
  {
   "cell_type": "code",
   "execution_count": null,
   "id": "06c8c1a9-9702-405e-a575-8094e7da0965",
   "metadata": {},
   "outputs": [],
   "source": []
  }
 ],
 "metadata": {
  "kernelspec": {
   "display_name": "Python 3 (ipykernel)",
   "language": "python",
   "name": "python3"
  },
  "language_info": {
   "codemirror_mode": {
    "name": "ipython",
    "version": 3
   },
   "file_extension": ".py",
   "mimetype": "text/x-python",
   "name": "python",
   "nbconvert_exporter": "python",
   "pygments_lexer": "ipython3",
   "version": "3.8.18"
  }
 },
 "nbformat": 4,
 "nbformat_minor": 5
}
